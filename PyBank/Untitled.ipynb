{
 "cells": [
  {
   "cell_type": "code",
   "execution_count": 214,
   "metadata": {},
   "outputs": [],
   "source": [
    "import csv\n",
    "from pathlib import Path"
   ]
  },
  {
   "cell_type": "code",
   "execution_count": 215,
   "metadata": {},
   "outputs": [],
   "source": [
    "csv_path = Path('budget_data.csv')"
   ]
  },
  {
   "cell_type": "code",
   "execution_count": 216,
   "metadata": {},
   "outputs": [],
   "source": [
    "total_months = 0\n",
    "records = {}\n",
    "pnls = []\n",
    "deltas = []\n",
    "total_pnl = 0\n",
    "total_months = 0"
   ]
  },
  {
   "cell_type": "code",
   "execution_count": 217,
   "metadata": {},
   "outputs": [],
   "source": [
    "total_months = 0\n",
    "\n",
    "with open(csv_path, 'r') as csvfile:\n",
    "    csv_reader = csv.reader(csvfile, delimiter=',')\n",
    "    header = next(csv_reader)\n",
    "    \n",
    "    # Read each row of data after the header\n",
    "    for row in csv_reader:\n",
    "        month = row[0]\n",
    "        pnl = int(row[1])\n",
    "        total_pnl += pnl\n",
    "        total_months += 1\n",
    "        pnls.append(pnl)\n",
    "        \n",
    "        if total_months < 2:\n",
    "            delta = 0\n",
    "        else:\n",
    "            delta = pnls[total_months-1] - pnls[total_months-2]\n",
    "            deltas.append(delta)\n",
    "            \n",
    "        records.update({delta: month})\n",
    "    \n",
    "increase = max(deltas)\n",
    "decrease = min(deltas)\n",
    "avg_changes = round(sum(deltas)/(total_months-1),2)\n",
    "        \n",
    "        \n",
    "        \n"
   ]
  },
  {
   "cell_type": "code",
   "execution_count": 218,
   "metadata": {},
   "outputs": [
    {
     "name": "stdout",
     "output_type": "stream",
     "text": [
      "Financial Analysis\n",
      "-----------------------\n",
      "Total Months: 86\n",
      "Total: $ 38382578\n",
      "Average Change: $-2315.12\n",
      "Greatest Increase in Profits: Feb-2012 ($1926159)\n",
      "Greatest Decrease in Profits: Sep-2013 ($-2196167)\n"
     ]
    }
   ],
   "source": [
    "print('Financial Analysis')\n",
    "print('-----------------------')\n",
    "print(f'Total Months: {total_months}')\n",
    "print(f'Total: $ {total_pnl}')\n",
    "print(f'Average Change: ${avg_changes}')\n",
    "print(f'Greatest Increase in Profits: {records[increase]} (${increase})')\n",
    "print(f'Greatest Decrease in Profits: {records[decrease]} (${decrease})')\n",
    "\n"
   ]
  },
  {
   "cell_type": "code",
   "execution_count": null,
   "metadata": {},
   "outputs": [],
   "source": []
  }
 ],
 "metadata": {
  "kernelspec": {
   "display_name": "Python 3",
   "language": "python",
   "name": "python3"
  },
  "language_info": {
   "codemirror_mode": {
    "name": "ipython",
    "version": 3
   },
   "file_extension": ".py",
   "mimetype": "text/x-python",
   "name": "python",
   "nbconvert_exporter": "python",
   "pygments_lexer": "ipython3",
   "version": "3.7.3"
  }
 },
 "nbformat": 4,
 "nbformat_minor": 4
}
